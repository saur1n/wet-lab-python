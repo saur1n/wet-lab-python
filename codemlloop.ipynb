{
 "cells": [
  {
   "cell_type": "code",
   "execution_count": 82,
   "metadata": {},
   "outputs": [],
   "source": [
    "from Bio.Phylo.PAML import codeml\n",
    "import os, sys"
   ]
  },
  {
   "cell_type": "code",
   "execution_count": 83,
   "metadata": {},
   "outputs": [],
   "source": [
    "cml = codeml.Codeml()\n",
    "cml.tree = \"primate_tree2r\"\n",
    "cml.set_options(clock=0,\n",
    "                model=0,\n",
    "                NSsites=[0, 1, 2, 7, 8],\n",
    "                seqtype=1,\n",
    "                CodonFreq=2,\n",
    "                getSE=0)"
   ]
  },
  {
   "cell_type": "code",
   "execution_count": 84,
   "metadata": {},
   "outputs": [
    {
     "data": {
      "text/plain": [
       "[('noisy', None),\n",
       " ('verbose', None),\n",
       " ('runmode', None),\n",
       " ('seqtype', 1),\n",
       " ('CodonFreq', 2),\n",
       " ('ndata', None),\n",
       " ('clock', 0),\n",
       " ('aaDist', None),\n",
       " ('aaRatefile', None),\n",
       " ('model', 0),\n",
       " ('NSsites', [0, 1, 2, 7, 8]),\n",
       " ('icode', None),\n",
       " ('Mgene', None),\n",
       " ('fix_kappa', None),\n",
       " ('kappa', None),\n",
       " ('fix_omega', None),\n",
       " ('omega', None),\n",
       " ('fix_alpha', None),\n",
       " ('alpha', None),\n",
       " ('Malpha', None),\n",
       " ('ncatG', None),\n",
       " ('getSE', 0),\n",
       " ('RateAncestor', None),\n",
       " ('Small_Diff', None),\n",
       " ('cleandata', None),\n",
       " ('fix_blength', None),\n",
       " ('method', None),\n",
       " ('rho', None),\n",
       " ('fix_rho', None)]"
      ]
     },
     "execution_count": 84,
     "metadata": {},
     "output_type": "execute_result"
    }
   ],
   "source": [
    "cml.get_all_options()"
   ]
  },
  {
   "cell_type": "code",
   "execution_count": 85,
   "metadata": {},
   "outputs": [],
   "source": [
    "cml.read_ctl_file = 'paml4.9i/codeml.ctl'\n",
    "codeml = \"<path to codeml exec file>""
   ]
  },
  {
   "cell_type": "code",
   "execution_count": 86,
   "metadata": {},
   "outputs": [],
   "source": [
    "for file in os.listdir():\n",
    "    if file.endswith(\".fa\"):\n",
    "        cml.alignment = file\n",
    "        cml.out_file = 'codeml_unrooted/%s.txt' % file[0:-3]\n",
    "        cml.run(command=codeml)"
   ]
  },
  {
   "cell_type": "code",
   "execution_count": null,
   "metadata": {},
   "outputs": [],
   "source": []
  }
 ],
 "metadata": {
  "kernelspec": {
   "display_name": "Python 3",
   "language": "python",
   "name": "python3"
  },
  "language_info": {
   "codemirror_mode": {
    "name": "ipython",
    "version": 3
   },
   "file_extension": ".py",
   "mimetype": "text/x-python",
   "name": "python",
   "nbconvert_exporter": "python",
   "pygments_lexer": "ipython3",
   "version": "3.7.0"
  }
 },
 "nbformat": 4,
 "nbformat_minor": 2
}
